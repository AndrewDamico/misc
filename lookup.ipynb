{
 "cells": [
  {
   "cell_type": "markdown",
   "id": "23ac6948-76ae-45b7-bd5f-4e42f94d34e9",
   "metadata": {},
   "source": [
    "# V Lookup for Python\n",
    "Andrew DAmico  \n",
    "09/10/2021"
   ]
  },
  {
   "cell_type": "markdown",
   "id": "042713d2-f178-4ddf-aeee-3f6900f1bcf1",
   "metadata": {},
   "source": [
    "This workbook creates a Pandas dataframe (DF) containing two feature sets such that each of the items in column A are also in column B. The objective is to lookup the value of column A, find the same value in column B, and return the value in column A which is in the same row as the value in column B as Column C.\n",
    "\n",
    "It needs to be noted that this will only find the first matching value; subsequent matching values (e.g., multiple records which contain items in column B that match the search value in column A) are ignored."
   ]
  },
  {
   "cell_type": "markdown",
   "id": "366a4bee-f181-4c45-992c-42c28d2d6995",
   "metadata": {},
   "source": [
    "# Libraries"
   ]
  },
  {
   "cell_type": "code",
   "execution_count": 1,
   "id": "88e7e62c-606d-4614-bda0-180fa5ebc789",
   "metadata": {},
   "outputs": [],
   "source": [
    "import pandas as pd"
   ]
  },
  {
   "cell_type": "markdown",
   "id": "173073cd-fbcc-47b9-9ef3-87c3d881fc27",
   "metadata": {},
   "source": [
    "# Create Sample Data"
   ]
  },
  {
   "cell_type": "markdown",
   "id": "f737b732-30c6-4051-be08-151ed25f6cb3",
   "metadata": {},
   "source": [
    "Create a Pandas dataframe comprised of two columns: A and B. Each column contains the same values in different rows."
   ]
  },
  {
   "cell_type": "code",
   "execution_count": 2,
   "id": "b51c231d-6941-4c96-a27c-fd38e371dc32",
   "metadata": {},
   "outputs": [
    {
     "name": "stdout",
     "output_type": "stream",
     "text": [
      "        A       B\n",
      "0  Item 1  Item 1\n",
      "1  Item 2  Item 3\n",
      "2  Item 3  Item 4\n",
      "3  Item 4  Item 2\n"
     ]
    }
   ],
   "source": [
    "df = pd.DataFrame(\n",
    "    data = {\n",
    "        'A': ['Item 1','Item 2','Item 3','Item 4'], \n",
    "        'B': ['Item 1','Item 3','Item 4','Item 2']\n",
    "    }\n",
    ")\n",
    "print(df)"
   ]
  },
  {
   "cell_type": "markdown",
   "id": "cbe83cb5-fa9a-40ed-b034-d9a5a5b50b5e",
   "metadata": {},
   "source": [
    "# Method 1. Lambda Function\n",
    "We can use a lambda function to iterate through the rows, finding the location of the value x in columns B, and returning the subsequent value in column A."
   ]
  },
  {
   "cell_type": "code",
   "execution_count": 3,
   "id": "2b2b5ec6-eb6b-407a-97f2-727fe1a96c2e",
   "metadata": {},
   "outputs": [],
   "source": [
    "df['C'] = df['A'].apply(\n",
    "    lambda x: df['A'].loc[df['B'] == x].values[0]\n",
    "    )"
   ]
  },
  {
   "cell_type": "code",
   "execution_count": 4,
   "id": "9b71af42-4513-4b95-84fc-ae00a68f7c5b",
   "metadata": {},
   "outputs": [
    {
     "name": "stdout",
     "output_type": "stream",
     "text": [
      "        A       B       C\n",
      "0  Item 1  Item 1  Item 1\n",
      "1  Item 2  Item 3  Item 4\n",
      "2  Item 3  Item 4  Item 2\n",
      "3  Item 4  Item 2  Item 3\n"
     ]
    }
   ],
   "source": [
    "print(df)"
   ]
  },
  {
   "cell_type": "markdown",
   "id": "fb7e9f13-b0dc-4cd7-a994-0235d0ce39fc",
   "metadata": {},
   "source": [
    "## Return Multiple Values\n",
    "To return all instances where the value in column B is equal to column 'A' you can remove the subset."
   ]
  },
  {
   "cell_type": "code",
   "execution_count": 5,
   "id": "6ee9aacf-ccc7-406c-a488-c2d579fffbc4",
   "metadata": {},
   "outputs": [
    {
     "name": "stdout",
     "output_type": "stream",
     "text": [
      "        A       B\n",
      "0  Item 1  Item 1\n",
      "1  Item 2  Item 1\n",
      "2  Item 3  Item 4\n",
      "3  Item 4  Item 2\n"
     ]
    }
   ],
   "source": [
    "df_2 = pd.DataFrame(\n",
    "    data = {\n",
    "        'A': ['Item 1','Item 2','Item 3','Item 4'], \n",
    "        'B': ['Item 1','Item 1','Item 4','Item 2']\n",
    "    }\n",
    ")\n",
    "print(df_2)"
   ]
  },
  {
   "cell_type": "markdown",
   "id": "ece0567e-da42-4574-8c6f-55bf426c583b",
   "metadata": {},
   "source": [
    "Note there are two 'Item 1' in column B"
   ]
  },
  {
   "cell_type": "code",
   "execution_count": 6,
   "id": "0bd04f79-f33f-40d6-aa8a-f3739778dd62",
   "metadata": {},
   "outputs": [
    {
     "name": "stdout",
     "output_type": "stream",
     "text": [
      "        A       B                 C\n",
      "0  Item 1  Item 1  [Item 1, Item 2]\n",
      "1  Item 2  Item 1          [Item 4]\n",
      "2  Item 3  Item 4                []\n",
      "3  Item 4  Item 2          [Item 3]\n"
     ]
    }
   ],
   "source": [
    "df_2['C'] = df_2['A'].apply(\n",
    "    lambda x: df_2['A'].loc[df_2['B'] == x].values\n",
    "    )\n",
    "print(df_2)"
   ]
  },
  {
   "cell_type": "markdown",
   "id": "c9bec013-6e7b-420b-99eb-e1a8528e8fc6",
   "metadata": {},
   "source": [
    "# Method 2. Iterate through rows\n",
    "The following performs the same operations, but in a non-lambda format (i.e., a for loop). This will find the first location of the value in column A in column B, and will then return the value in column A corresponding to the row in column B."
   ]
  },
  {
   "cell_type": "code",
   "execution_count": 7,
   "id": "6d77259c-3cfd-4975-8e5c-f3d0e3a88a6e",
   "metadata": {},
   "outputs": [],
   "source": [
    "for index in df.iterrows():\n",
    "    df.at[index[0],'C'] = df.loc[df['B'] == df.iloc[index[0]]['A'], 'A'].values[0]"
   ]
  },
  {
   "cell_type": "code",
   "execution_count": 8,
   "id": "cfdef6f8-c051-48b2-af11-0e34ffd35dc6",
   "metadata": {},
   "outputs": [
    {
     "name": "stdout",
     "output_type": "stream",
     "text": [
      "        A       B       C\n",
      "0  Item 1  Item 1  Item 1\n",
      "1  Item 2  Item 3  Item 4\n",
      "2  Item 3  Item 4  Item 2\n",
      "3  Item 4  Item 2  Item 3\n"
     ]
    }
   ],
   "source": [
    "print(df)"
   ]
  },
  {
   "cell_type": "markdown",
   "id": "b48048ae-59d4-4d9b-ae93-223df600f209",
   "metadata": {},
   "source": [
    "## An Easier Breakdown to see what is happening"
   ]
  },
  {
   "cell_type": "code",
   "execution_count": 9,
   "id": "ea16711f-db56-4a44-9823-013fb3694fe5",
   "metadata": {},
   "outputs": [],
   "source": [
    "for index in df.iterrows():\n",
    "    value_looking_for = df.iloc[index[0]]['A']\n",
    "    lookup_column = df['B']\n",
    "    column_to_return = 'A'\n",
    "    df.at[index[0],'C'] = df.loc[lookup_column == value_looking_for, column_to_return].values[0]"
   ]
  },
  {
   "cell_type": "code",
   "execution_count": 10,
   "id": "8347b1ae-8167-4d8f-9f86-862c67f8e91a",
   "metadata": {},
   "outputs": [
    {
     "name": "stdout",
     "output_type": "stream",
     "text": [
      "        A       B       C\n",
      "0  Item 1  Item 1  Item 1\n",
      "1  Item 2  Item 3  Item 4\n",
      "2  Item 3  Item 4  Item 2\n",
      "3  Item 4  Item 2  Item 3\n"
     ]
    }
   ],
   "source": [
    "print(df)"
   ]
  }
 ],
 "metadata": {
  "kernelspec": {
   "display_name": "Python 3",
   "language": "python",
   "name": "python3"
  },
  "language_info": {
   "codemirror_mode": {
    "name": "ipython",
    "version": 3
   },
   "file_extension": ".py",
   "mimetype": "text/x-python",
   "name": "python",
   "nbconvert_exporter": "python",
   "pygments_lexer": "ipython3",
   "version": "3.7.10"
  },
  "widgets": {
   "application/vnd.jupyter.widget-state+json": {
    "state": {},
    "version_major": 2,
    "version_minor": 0
   }
  }
 },
 "nbformat": 4,
 "nbformat_minor": 5
}